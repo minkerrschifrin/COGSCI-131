{
 "cells": [
  {
   "cell_type": "markdown",
   "metadata": {},
   "source": [
    "In this assignment, you will implement the Metropolis algorithm to sample from a posterior distribution on a psychological parameter, based on data on bcourses.\n",
    "\n",
    "Assume that a Weber ratio W has prior,\n",
    "P(W) = e^(-W)\n",
    "\n",
    "A likelihood function has been provided that compute the probability of answering correctly (the behavioral data) given W and the behavioral stimuli (n1 and n2).\n",
    "\n",
    "Recall that in the Metropolis-Hastings algorithm, you start with an initial W, you propose a change to a new value W' (e.g. by adding a sample from a Normal(0,.1) distribution to W) and you accept this change always if it is better, and otherwise with probability P(W'|D)/P(W|D). \n",
    "\n",
    "NOTE: Please pay attention to which terms do and do not have logs in this assignment"
   ]
  },
  {
   "cell_type": "markdown",
   "metadata": {},
   "source": [
    "# 1. [5pts] We will implement functions that compute the logarithm of the prior and the logarithm posterior, as opposed to the unlogged versions. Explain why in 1-2 sentences."
   ]
  },
  {
   "cell_type": "markdown",
   "metadata": {},
   "source": [
    "When we log(e^(-W)), the log cancels out the e, leaving P(W) = -W.  This simplifies the equation by much allowing us to use a single sum over a complicated product."
   ]
  },
  {
   "cell_type": "markdown",
   "metadata": {},
   "source": [
    "# 2. [5pts] Explain in a 1-2 sentences why the form of the acceptance ratio P(W'|D)/P(W|D) is convenient for us – that is, why it saves us from doing an integral."
   ]
  },
  {
   "cell_type": "markdown",
   "metadata": {},
   "source": [
    "It allows us to get rid of the denominator, which if kept, would cause us to need to calculate two different integrals (one for each denominator) in order to find P(H|D)."
   ]
  },
  {
   "cell_type": "markdown",
   "metadata": {},
   "source": [
    "# 3. [5pts] Write functions to compute something proportional to the log prior and log posterior in this model. You will prevent later frustration by ensuring that your prior correctly handles cases when W<0 (what should it return?)."
   ]
  },
  {
   "cell_type": "code",
   "execution_count": 13,
   "metadata": {},
   "outputs": [],
   "source": [
    "import numpy as np\n",
    "from math import log, sqrt, exp\n",
    "import scipy.stats\n",
    "import pandas as pd\n",
    "import csv\n",
    "import math\n",
    "\n",
    "data = pd.read_csv('Assignment9-data.csv')\n",
    "\n",
    "def log_likelihood(n1, n2, a, W):\n",
    "    # this function takes a numpy array for n1, n2, and the accuracy (0/1), whether they answerd correctly\n",
    "    # as well as W, the hypothesis\n",
    "    # and returns the *log* likelihood of the responses, log P(acc | n1, n2, W)\n",
    "\n",
    "    assert(len(n1) == len(n2) == len(a))\n",
    "\n",
    "    p = 1.0-scipy.stats.norm.cdf(0, loc=np.abs(n1-n2), scale=W*np.sqrt(n1**2 + n2**2)) # the probability of answering correctly\n",
    "    return np.sum(np.where(a, np.log(p), np.log(1.0-p)))\n",
    "\n",
    "def log_prior(W):\n",
    "    if W < 0:\n",
    "        return 0\n",
    "    else:\n",
    "        return log(exp(-W))\n",
    "\n",
    "def log_posterior(W):\n",
    "    return proportional_prior(W) + log_likelihood(data['n1'], data['n2'], data['correct'], W)"
   ]
  },
  {
   "cell_type": "markdown",
   "metadata": {},
   "source": [
    "# 4. [25pts] Implement the Metropolis algorithm, starting from a random W, and plot (a) the posterior score of W over the first 300 samples; (b) the value of W over the first 300 samples, and (c) a histogram of the samples of W over the first 10,000 samples after 1000 samples of “burn in.”"
   ]
  },
  {
   "cell_type": "code",
   "execution_count": 41,
   "metadata": {},
   "outputs": [
    {
     "name": "stderr",
     "output_type": "stream",
     "text": [
      "/anaconda3/lib/python3.7/site-packages/ipykernel_launcher.py:18: RuntimeWarning: divide by zero encountered in log\n"
     ]
    },
    {
     "data": {
      "image/png": "[encoded data removed]",
      "text/plain": [
       "<Figure size 432x288 with 1 Axes>"
      ]
     },
     "metadata": {
      "needs_background": "light"
     },
     "output_type": "display_data"
    }
   ],
   "source": [
    "import matplotlib.pyplot as plt\n",
    "\n",
    "hyp_list = []\n",
    "x = []\n",
    "y = []\n",
    "hyp_list.append(np.random.uniform(0, 1))\n",
    "\n",
    "\n",
    "for i in range(300):\n",
    "    x.append(i)\n",
    "    w = hyp_list[-1]\n",
    "    nextw = w + np.random.normal(0, 0.1)\n",
    "    if log_posterior(nextw) > log_posterior(w):\n",
    "        hyp_list.append(nextw)\n",
    "        y.append(log_posterior(nextw))\n",
    "        \n",
    "    else:\n",
    "        ratio = exp((log_posterior(nextw))-(log_posterior(w)))\n",
    "        rand = np.random.uniform(0,1)\n",
    "        if rand < ratio:\n",
    "            hyp_list.append(nextw)\n",
    "            y.append(log_posterior(nextw))\n",
    "        else:\n",
    "            hyp_list.append(w)\n",
    "            y.append(log_posterior(w))\n",
    "        \n",
    "plt.xlabel('Samples')\n",
    "plt.ylabel('Posterior Scores')\n",
    "plt.plot(x,y)\n",
    "plt.show()"
   ]
  },
  {
   "cell_type": "code",
   "execution_count": 45,
   "metadata": {},
   "outputs": [
    {
     "data": {
      "text/plain": [
       "[<matplotlib.lines.Line2D at 0x1a1e80d668>]"
      ]
     },
     "execution_count": 45,
     "metadata": {},
     "output_type": "execute_result"
    },
    {
     "data": {
      "image/png": "[encoded data removed]",
      "text/plain": [
       "<Figure size 432x288 with 1 Axes>"
      ]
     },
     "metadata": {
      "needs_background": "light"
     },
     "output_type": "display_data"
    }
   ],
   "source": [
    "plt.xlabel('Samples')\n",
    "plt.ylabel('W value')\n",
    "plt.plot(x, hyp_list[0:300])"
   ]
  },
  {
   "cell_type": "code",
   "execution_count": 48,
   "metadata": {},
   "outputs": [
    {
     "data": {
      "text/plain": [
       "(array([  6.,   0.,   0.,   0.,   0.,   0.,   1.,   4.,   0.,   3.,  20.,\n",
       "          6.,   3.,   0.,  16.,   5.,   7.,  22.,   9.,  29.,  19.,  35.,\n",
       "         47.,  32.,  46.,  67.,  55.,  83.,  73.,  52., 102., 120.,  87.,\n",
       "        211., 176., 210., 297., 202., 182., 211., 179., 220., 271., 287.,\n",
       "        213., 285., 200., 200., 298., 342., 323., 319., 195., 242., 166.,\n",
       "        233., 243., 152., 195., 177., 131., 199., 209., 167., 149., 158.,\n",
       "        104.,  83.,  59.,  56.,  70.,  77.,  49.,  31.,  47.,  15.,  36.,\n",
       "         18.,  19.,  20.,  31.,  15.,   8.,  20.,   8.,  13.,   3.,   4.,\n",
       "         10.,   0.,   2.,   4.,   0.,   3.,   1.,   0.,   0.,   0.,   0.,\n",
       "          3.]),\n",
       " array([0.56877747, 0.57017323, 0.57156899, 0.57296475, 0.57436051,\n",
       "        0.57575627, 0.57715203, 0.57854779, 0.57994355, 0.58133932,\n",
       "        0.58273508, 0.58413084, 0.5855266 , 0.58692236, 0.58831812,\n",
       "        0.58971388, 0.59110964, 0.5925054 , 0.59390116, 0.59529692,\n",
       "        0.59669269, 0.59808845, 0.59948421, 0.60087997, 0.60227573,\n",
       "        0.60367149, 0.60506725, 0.60646301, 0.60785877, 0.60925453,\n",
       "        0.61065029, 0.61204606, 0.61344182, 0.61483758, 0.61623334,\n",
       "        0.6176291 , 0.61902486, 0.62042062, 0.62181638, 0.62321214,\n",
       "        0.6246079 , 0.62600366, 0.62739943, 0.62879519, 0.63019095,\n",
       "        0.63158671, 0.63298247, 0.63437823, 0.63577399, 0.63716975,\n",
       "        0.63856551, 0.63996127, 0.64135703, 0.64275279, 0.64414856,\n",
       "        0.64554432, 0.64694008, 0.64833584, 0.6497316 , 0.65112736,\n",
       "        0.65252312, 0.65391888, 0.65531464, 0.6567104 , 0.65810616,\n",
       "        0.65950193, 0.66089769, 0.66229345, 0.66368921, 0.66508497,\n",
       "        0.66648073, 0.66787649, 0.66927225, 0.67066801, 0.67206377,\n",
       "        0.67345953, 0.6748553 , 0.67625106, 0.67764682, 0.67904258,\n",
       "        0.68043834, 0.6818341 , 0.68322986, 0.68462562, 0.68602138,\n",
       "        0.68741714, 0.6888129 , 0.69020866, 0.69160443, 0.69300019,\n",
       "        0.69439595, 0.69579171, 0.69718747, 0.69858323, 0.69997899,\n",
       "        0.70137475, 0.70277051, 0.70416627, 0.70556203, 0.7069578 ,\n",
       "        0.70835356]),\n",
       " <a list of 100 Patch objects>)"
      ]
     },
     "execution_count": 48,
     "metadata": {},
     "output_type": "execute_result"
    },
    {
     "data": {
      "image/png": "[encoded data removed]",
      "text/plain": [
       "<Figure size 432x288 with 1 Axes>"
      ]
     },
     "metadata": {
      "needs_background": "light"
     },
     "output_type": "display_data"
    }
   ],
   "source": [
    "def c_log_posterior(W):\n",
    "    return proportional_prior(W) + log_likelihood(data['n1'][1001:], data['n2'][1001:], data['correct'][1001:], W)\n",
    "\n",
    "hyp_list = []\n",
    "x = []\n",
    "hyp_list.append(np.random.uniform(0, 1))\n",
    "\n",
    "\n",
    "for i in range(10000):\n",
    "    x.append(i)\n",
    "    w = hyp_list[-1]\n",
    "    nextw = w + np.random.normal(0, 0.1)\n",
    "    if log_posterior(nextw) > log_posterior(w):\n",
    "        hyp_list.append(nextw)\n",
    "        y.append(log_posterior(nextw))\n",
    "        \n",
    "    else:\n",
    "        ratio = exp((log_posterior(nextw))-(log_posterior(w)))\n",
    "        rand = np.random.uniform(0,1)\n",
    "        if rand < ratio:\n",
    "            hyp_list.append(nextw)\n",
    "            y.append(log_posterior(nextw))\n",
    "        else:\n",
    "            hyp_list.append(w)\n",
    "            y.append(log_posterior(w))\n",
    "            \n",
    "plt.hist(hyp_list[1001:], bins = 100)"
   ]
  },
  {
   "cell_type": "markdown",
   "metadata": {},
   "source": [
    "# 5. [15pts] Use your sampler to determine the probability that W is in the interval [0.2,0.3]. What is that probability?"
   ]
  },
  {
   "cell_type": "code",
   "execution_count": 49,
   "metadata": {},
   "outputs": [
    {
     "data": {
      "text/plain": [
       "0"
      ]
     },
     "execution_count": 49,
     "metadata": {},
     "output_type": "execute_result"
    }
   ],
   "source": [
    "def ininterval(data):\n",
    "    count = 0\n",
    "    for i in data:\n",
    "          if i > 0.2 and i < 0.3:\n",
    "                count += 1\n",
    "    return count\n",
    "\n",
    "ininterval(hyp_list)"
   ]
  },
  {
   "cell_type": "markdown",
   "metadata": {},
   "source": [
    "# 6. [25pts] Extra credit: Do you get “better” estimates with this algorithm if you run one chain for 200 steps or two chains for 100 steps each and just concatenate their samples? To answer this, you should come up with both (a) a simulation that tries both of these options (you'll want to run more than one time!) and (b) a measure of how “good” a run was (i.e. how accurate its samples were). \n",
    "Write a sentence or two justifying your measure of goodness, create a visualization of the two options, and explain in a sentence how the visualization answers the question."
   ]
  },
  {
   "cell_type": "code",
   "execution_count": null,
   "metadata": {},
   "outputs": [],
   "source": []
  }
 ],
 "metadata": {
  "kernelspec": {
   "display_name": "Python 3",
   "language": "python",
   "name": "python3"
  },
  "language_info": {
   "codemirror_mode": {
    "name": "ipython",
    "version": 3
   },
   "file_extension": ".py",
   "mimetype": "text/x-python",
   "name": "python",
   "nbconvert_exporter": "python",
   "pygments_lexer": "ipython3",
   "version": "3.6.9"
  }
 },
 "nbformat": 4,
 "nbformat_minor": 2
}
