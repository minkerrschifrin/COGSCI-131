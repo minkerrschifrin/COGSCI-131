{
 "cells": [
  {
   "cell_type": "code",
   "execution_count": 0,
   "metadata": {
    "colab": {},
    "colab_type": "code",
    "id": "LqopykyWx6fT"
   },
   "outputs": [],
   "source": [
    "import re"
   ]
  },
  {
   "cell_type": "markdown",
   "metadata": {
    "colab_type": "text",
    "id": "89sRsWbIyEb9"
   },
   "source": [
    "Simple letter matching"
   ]
  },
  {
   "cell_type": "code",
   "execution_count": 0,
   "metadata": {
    "colab": {},
    "colab_type": "code",
    "id": "4Z8Fo0gnyHVe"
   },
   "outputs": [],
   "source": [
    "#Simple letter matching\n",
    "message='cats' #what the user will say to the chatbot\n",
    "pattern='cat' #a subset of that message; used to categorize a message in a way that will help the chatbot reply to it in a general way\n",
    "re.findall(pattern,message)\n",
    "\n",
    "re.findall('cat','cats')\n",
    "re.findall('catz','cats')\n",
    "re.findall('ate', 'I ate a pear and I ate an apple.')"
   ]
  },
  {
   "cell_type": "markdown",
   "metadata": {
    "colab_type": "text",
    "id": "Ab_zofCGyNz5"
   },
   "source": [
    "Search vs. Match"
   ]
  },
  {
   "cell_type": "code",
   "execution_count": 0,
   "metadata": {
    "colab": {},
    "colab_type": "code",
    "id": "pJ1SnU3-yPJO"
   },
   "outputs": [],
   "source": [
    "#Search vs. match\n",
    "re.search('ate', 'I ate a pear and I ate an apple.')\n",
    "re.search('ate', 'I ate a pear and I ate an apple.').group()\n",
    "re.search('eat', 'I ate a pear and I ate an apple.').group()\n",
    "\n",
    "re.match('ate', 'I ate a pear and I ate an apple.').group() #looks at the beginning of the string\n",
    "re.match('ate', 'ate I ate a pear and I ate an apple.').group()\n",
    "\n",
    "\n",
    "re.search('today$','today I ate a pear and I ate an apple') #pattern has to be at the end\n",
    "re.search('today$','I ate a pear and I ate an apple today')"
   ]
  },
  {
   "cell_type": "markdown",
   "metadata": {
    "colab_type": "text",
    "id": "RxhTTmhoySvt"
   },
   "source": [
    "."
   ]
  },
  {
   "cell_type": "code",
   "execution_count": 0,
   "metadata": {
    "colab": {
     "base_uri": "https://localhost:8080/",
     "height": 34
    },
    "colab_type": "code",
    "executionInfo": {
     "elapsed": 285,
     "status": "ok",
     "timestamp": 1581668843059,
     "user": {
      "displayName": "Isabelle Boni",
      "photoUrl": "",
      "userId": "16313607835335372403"
     },
     "user_tz": 480
    },
    "id": "EwQdVKRByTv6",
    "outputId": "ae33e7ca-ebdf-40df-af40-02a96f04edc7"
   },
   "outputs": [
    {
     "data": {
      "text/plain": [
       "'bananas'"
      ]
     },
     "execution_count": 15,
     "metadata": {
      "tags": []
     },
     "output_type": "execute_result"
    }
   ],
   "source": [
    "\n",
    "#.\n",
    "re.search('bana.as','bananas').group()\n",
    "re.search('bana.as','bana9as').group()\n",
    "re.search('bana...','bananas').group() #exact match\n",
    "re.search('bana....','bananas').group()\n",
    "re.search('bana..','bananas').group() #substring match (usually this will be what is useful for your chatbots); you use less to capture more\n"
   ]
  },
  {
   "cell_type": "markdown",
   "metadata": {
    "colab_type": "text",
    "id": "QEN0L3qwyZ7L"
   },
   "source": [
    "[]"
   ]
  },
  {
   "cell_type": "code",
   "execution_count": 0,
   "metadata": {
    "colab": {},
    "colab_type": "code",
    "id": "zQ88y2ZSych4"
   },
   "outputs": [],
   "source": [
    "#[]\n",
    "re.search('ber[hijkl]eley','berkeley').group() #square brackets contain anything that will be accepted for a match\n",
    "re.search('ber[hijl]eley','berkeley').group()\n",
    "re.search('ber[HIJKL]eley','berkeley').group() #case sensitive\n"
   ]
  },
  {
   "cell_type": "markdown",
   "metadata": {
    "colab_type": "text",
    "id": "GJkUmRqsydfj"
   },
   "source": [
    "{}"
   ]
  },
  {
   "cell_type": "code",
   "execution_count": 0,
   "metadata": {
    "colab": {},
    "colab_type": "code",
    "id": "dGDgiiVkygRj"
   },
   "outputs": [],
   "source": [
    "#{}\n",
    "re.search('compu{5}ter','compuuuuuter').group()\n",
    "re.search('compu{4}ter','compuuuuuter').group()\n"
   ]
  },
  {
   "cell_type": "markdown",
   "metadata": {
    "colab_type": "text",
    "id": "VPtvl5iHyhC0"
   },
   "source": [
    "[], {}"
   ]
  },
  {
   "cell_type": "code",
   "execution_count": 0,
   "metadata": {
    "colab": {},
    "colab_type": "code",
    "id": "gfmTqmo3ykVR"
   },
   "outputs": [],
   "source": [
    "#[], {}\n",
    "re.search('February [0-5]{2}th','February 14th').group()\n",
    "re.search('February [0-1]{2}th','February 14th').group()"
   ]
  },
  {
   "cell_type": "markdown",
   "metadata": {
    "colab_type": "text",
    "id": "5U8ZFFHxylPv"
   },
   "source": [
    "*"
   ]
  },
  {
   "cell_type": "code",
   "execution_count": 0,
   "metadata": {
    "colab": {},
    "colab_type": "code",
    "id": "5rIPuoBRypnw"
   },
   "outputs": [],
   "source": [
    "#*     checks for zero or more characters to its left\n",
    "re.search('Cao*kie', 'Caoookie').group()\n",
    "re.search('Co*kie', 'Ckie').group()"
   ]
  },
  {
   "cell_type": "markdown",
   "metadata": {
    "colab_type": "text",
    "id": "3NY1oO7Tyqtl"
   },
   "source": [
    "+"
   ]
  },
  {
   "cell_type": "code",
   "execution_count": 0,
   "metadata": {
    "colab": {},
    "colab_type": "code",
    "id": "mrdnmgd6yt0O"
   },
   "outputs": [],
   "source": [
    "#+     checks for one or more characters to its left\n",
    "re.search('Co+kie', 'Coooookie').group()\n",
    "re.search('Co+kie', 'Cokie').group()\n",
    "re.search('Co+kie', 'Ckie').group()"
   ]
  },
  {
   "cell_type": "markdown",
   "metadata": {
    "colab_type": "text",
    "id": "pI6wHEnmywIq"
   },
   "source": [
    "?"
   ]
  },
  {
   "cell_type": "code",
   "execution_count": 0,
   "metadata": {
    "colab": {},
    "colab_type": "code",
    "id": "ly_23jklyw4w"
   },
   "outputs": [],
   "source": [
    "#?     Checks for exactly zero or one character to its left.\n",
    "re.search('Colou?r', 'Color').group() #0\n",
    "re.search('Colou?r', 'Colour').group() #1\n",
    "re.search('Colou?r', 'Colouur').group() #>1"
   ]
  },
  {
   "cell_type": "markdown",
   "metadata": {
    "colab_type": "text",
    "id": "4Ulx9RlJyzc6"
   },
   "source": [
    "GROUPS"
   ]
  },
  {
   "cell_type": "code",
   "execution_count": 0,
   "metadata": {
    "colab": {},
    "colab_type": "code",
    "id": "bULY6iDhy4Xo"
   },
   "outputs": [],
   "source": [
    "#GROUPS\n",
    "pattern=\"What does a (.+) do?\"\n",
    "message=\"What does a great dentist do?\" #user input\n",
    "re.search(pattern,message)\n",
    "re.search(pattern,message).group(1) #tells you what was input besides the provided scaffold\n",
    "\n",
    "pattern=\"(.+) is (.+)\"\n",
    "message=\"Jessie is a great dancer.\"\n",
    "re.search(pattern,message)\n",
    "re.search(pattern,message).group(1)\n",
    "re.search(pattern,message).group(2)"
   ]
  },
  {
   "cell_type": "markdown",
   "metadata": {
    "colab_type": "text",
    "id": "SdVYs2lDy5KN"
   },
   "source": [
    "DICTIONARY EXAMPLE"
   ]
  },
  {
   "cell_type": "code",
   "execution_count": 0,
   "metadata": {
    "colab": {},
    "colab_type": "code",
    "id": "9fGOd2yny8Jn"
   },
   "outputs": [],
   "source": [
    "\n",
    "#DICTIONARY EXAMPLE\n",
    "d={\n",
    "   'a':1,\n",
    "   'b':[5,7,9]\n",
    "   }\n",
    "\n",
    "d['a']\n",
    "d['b']\n",
    "\n",
    "#In your chatbot, keys can be patterns, values can be responses\n"
   ]
  },
  {
   "cell_type": "markdown",
   "metadata": {
    "colab_type": "text",
    "id": "-rUZSC7Fy85P"
   },
   "source": [
    "FORMAT EXAMPLE"
   ]
  },
  {
   "cell_type": "code",
   "execution_count": 0,
   "metadata": {
    "colab": {},
    "colab_type": "code",
    "id": "yMNyhhHKzABO"
   },
   "outputs": [],
   "source": [
    "\n",
    "#FORMAT EXAMPLE\n",
    "\"Earth is a {} that contains life.\".format('planet')\n",
    "\"Earth is a {} that contains life.\".format('sphere')\n"
   ]
  },
  {
   "cell_type": "markdown",
   "metadata": {
    "colab_type": "text",
    "id": "QmqbYq8GzCbM"
   },
   "source": [
    "DICTIONARY & FORMAT EXAMPLE"
   ]
  },
  {
   "cell_type": "code",
   "execution_count": 0,
   "metadata": {
    "colab": {},
    "colab_type": "code",
    "id": "6TWvBwSXzD_e"
   },
   "outputs": [],
   "source": [
    "\n",
    "#DICTIONARY & FORMAT EXAMPLE\n",
    "\n",
    "d={\n",
    "      \"What does a (.+) do?\": \"A {} does cool things.\",\n",
    "      \"(.+) is (.+)\": \"Really? Why is {} {}?\"\n",
    "}\n",
    "#d keys are patterns, d values are responses\n",
    "\n",
    "\n",
    "pattern=\"What does a (.+) do?\"\n",
    "message=\"What does a singer do?\"\n",
    "groupmatched=re.search(pattern,message).group(1) #tells you what your user said outside that scaffold\n",
    "\n",
    "response=d[pattern] #tells you the responses your bot can give for this pattern\n",
    "response.format(groupmatched)\n",
    "\n",
    "\n"
   ]
  },
  {
   "cell_type": "markdown",
   "metadata": {
    "colab_type": "text",
    "id": "9r4LNOrvzKDe"
   },
   "source": [
    "RANDOM CHOICE"
   ]
  },
  {
   "cell_type": "code",
   "execution_count": 0,
   "metadata": {
    "colab": {},
    "colab_type": "code",
    "id": "fsNJcV_hzLsv"
   },
   "outputs": [],
   "source": [
    "#RANDOM EXAMPLE\n",
    "import random\n",
    "bla=[\"Tell me more.\", \"I'm bored.\", \"Repeat that again, please?\"]\n",
    "random.choice(bla)\n"
   ]
  },
  {
   "cell_type": "markdown",
   "metadata": {
    "colab_type": "text",
    "id": "iNn1xJ8izOP3"
   },
   "source": [
    "INPUT"
   ]
  },
  {
   "cell_type": "code",
   "execution_count": 0,
   "metadata": {
    "colab": {
     "base_uri": "https://localhost:8080/",
     "height": 51
    },
    "colab_type": "code",
    "executionInfo": {
     "elapsed": 4840,
     "status": "ok",
     "timestamp": 1581668714846,
     "user": {
      "displayName": "Isabelle Boni",
      "photoUrl": "",
      "userId": "16313607835335372403"
     },
     "user_tz": 480
    },
    "id": "Psu6J70-zPis",
    "outputId": "92f6bec0-01da-48a0-945e-edc2f2ffe8c4"
   },
   "outputs": [
    {
     "name": "stdout",
     "output_type": "stream",
     "text": [
      "I'm a chatbot. Say something: hi\n"
     ]
    },
    {
     "data": {
      "text/plain": [
       "'hi'"
      ]
     },
     "execution_count": 6,
     "metadata": {
      "tags": []
     },
     "output_type": "execute_result"
    }
   ],
   "source": [
    "#INPUT EXAMPLE\n",
    "message=input(\"I'm a chatbot. Say something: \")\n",
    "\n"
   ]
  },
  {
   "cell_type": "markdown",
   "metadata": {
    "colab_type": "text",
    "id": "M2PYNx4kfCHK"
   },
   "source": [
    "GENERAL TIPS FOR THE CHATBOT: \n",
    "1. Have a default reply (E.g. Sorry, I do not understand what you said)\n",
    "2. Start the chatbot with the domain name (E.g. Hi, I am CookieMan. Ask me anything about cookies!)\n",
    "3. Tell the user how to quit the chat (E.g. You can type 'quit' any time you want to end the chat)\n"
   ]
  }
 ],
 "metadata": {
  "colab": {
   "authorship_tag": "ABX9TyMed4SwDcTO3bd3cnIlhW7X",
   "collapsed_sections": [],
   "name": "regex.ipynb",
   "provenance": []
  },
  "kernelspec": {
   "display_name": "Python 3",
   "language": "python",
   "name": "python3"
  },
  "language_info": {
   "codemirror_mode": {
    "name": "ipython",
    "version": 3
   },
   "file_extension": ".py",
   "mimetype": "text/x-python",
   "name": "python",
   "nbconvert_exporter": "python",
   "pygments_lexer": "ipython3",
   "version": "3.6.9"
  }
 },
 "nbformat": 4,
 "nbformat_minor": 1
}
