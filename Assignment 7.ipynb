{
 "cells": [
  {
   "cell_type": "code",
   "execution_count": 1,
   "metadata": {},
   "outputs": [],
   "source": [
    "import os\n",
    "import numpy\n",
    "import random\n",
    "import matplotlib.pyplot as plt"
   ]
  },
  {
   "cell_type": "code",
   "execution_count": null,
   "metadata": {},
   "outputs": [],
   "source": [
    "#File Upload\n",
    "\n",
    "# Functions that might be useful (please read the documentation)\n",
    "# x.flatten() (take a N-dimensional numpy array and make it one-dimensional)\n",
    "# numpy.random.choice -- choose from the list of images\n",
    "# numpy.dot -- compute the dot product\n",
    "# numpy.random.normal -- set up random initial weights\n",
    "\n",
    "DIM = (28,28) #these are the dimensions of the image\n",
    "\n",
    "def load_image_files(n, path=\"images/\"):\n",
    "    # helper file to help load the images\n",
    "    # returns a list of numpy vectors\n",
    "    images = []\n",
    "    for f in os.listdir(os.path.join(path,str(n))): # read files in the path\n",
    "        p = os.path.join(path,str(n),f)\n",
    "        if os.path.isfile(p):\n",
    "            i = numpy.loadtxt(p)\n",
    "            assert i.shape == DIM # just check the dimensions here\n",
    "            # i is loaded as a matrix, but we are going to flatten it into a single vector\n",
    "            images.append(i.flatten())\n",
    "    return images\n",
    "            \n",
    "\n",
    "# Load up these image files\n",
    "A = load_image_files(0)\n",
    "B = load_image_files(1)\n",
    "\n",
    "N = len(A[0]) # the total size\n",
    "assert N == DIM[0]*DIM[1] # just check our sizes to be sure\n",
    "\n",
    "# set up some random initial weights\n",
    "weights = numpy.random.normal(0,1,size=N)"
   ]
  },
  {
   "cell_type": "code",
   "execution_count": null,
   "metadata": {},
   "outputs": [],
   "source": [
    "#Question 1\n",
    "\n",
    "plt.title('Perceptron Learning Algorithm')\n",
    "plt.xlabel('Blocks')\n",
    "plt.ylabel('Accuracy')\n",
    "\n",
    "def perceptron(n):\n",
    "    aa = [0] #average accuracy\n",
    "    weights = np.random.normal(0,1,size=N)\n",
    "    for i in range(n):\n",
    "        accurate = 0\n",
    "        for i in range(0, 25):\n",
    "            image, sign = [], []\n",
    "            rand = random.choice([0, 1])\n",
    "            if rand == 0:\n",
    "                a = random.randint(0, 5000)\n",
    "                image = A[a]\n",
    "                sign.append(0)\n",
    "            elif rand == 1:\n",
    "                b = random.randint(0, 5000)\n",
    "                image = B[b]\n",
    "                sign.append(1)\n",
    "            total = np.dot(weights, image)\n",
    "            if total >= 0:\n",
    "                c = 1\n",
    "            else:\n",
    "                c = 0\n",
    "            if c == 1 and sign[-1] == 0:\n",
    "                weights -= image\n",
    "            elif c == 0 and sign[-1] == 1:\n",
    "                weights += image\n",
    "            else:\n",
    "                accurate += 1\n",
    "        accuracy = accurate/25\n",
    "        aa.append(accuracy)\n",
    "    return weights, aa\n",
    "\n",
    "x, y = perceptron(1000)\n",
    "plt.plot(y)\n",
    "plt.show    "
   ]
  },
  {
   "cell_type": "markdown",
   "metadata": {},
   "source": [
    "#Question 2\n",
    "\n",
    "It doesn't converge on 100% accuracy because the graph flucturates. It is not as distinguishable nor linear."
   ]
  },
  {
   "cell_type": "code",
   "execution_count": null,
   "metadata": {},
   "outputs": [],
   "source": [
    "#Question 3\n",
    "\n",
    "plt.title(\"Weight Matrix\")\n",
    "reshaped = np.reshape(weights, (28, 28))\n",
    "plt.imshow(reshaped)\n",
    "plt.colorbar()\n",
    "\n",
    "#end"
   ]
  }
 ],
 "metadata": {
  "kernelspec": {
   "display_name": "Python 3",
   "language": "python",
   "name": "python3"
  },
  "language_info": {
   "codemirror_mode": {
    "name": "ipython",
    "version": 3
   },
   "file_extension": ".py",
   "mimetype": "text/x-python",
   "name": "python",
   "nbconvert_exporter": "python",
   "pygments_lexer": "ipython3",
   "version": "3.6.9"
  }
 },
 "nbformat": 4,
 "nbformat_minor": 4
}
