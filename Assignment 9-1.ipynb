{
 "cells": [
  {
   "cell_type": "code",
   "execution_count": null,
   "metadata": {},
   "outputs": [],
   "source": [
    "# Template for Assignment 9\n",
    "\n",
    "import numpy as np\n",
    "from math import log, sqrt\n",
    "import scipy.stats\n",
    "\n",
    "def log_likelihood(n1, n2, a, W):\n",
    "    # this function takes a numpy array for n1, n2, and the accuracy (0/1), whether they answerd correctly\n",
    "    # as well as W (the hypothesis)\n",
    "    # and returns the *log* likelihood of the responses, log P(accuracy | n1, n2, W)\n",
    "    \n",
    "    assert(len(n1) == len(n2) == len(a))\n",
    "\n",
    "    p = 1.0-scipy.stats.norm.cdf(0, loc=np.abs(n1-n2), scale=W*np.sqrt(n1**2 + n2**2)) # the probability of answering correctly\n",
    "    return np.sum(np.where(a, np.log(p), np.log(1.0-p)))\n",
    "\t\t\t   \n",
    "    \n",
    "##\n",
    "## Your code goes here ###\n",
    "##"
   ]
  }
 ],
 "metadata": {
  "kernelspec": {
   "display_name": "Python 3",
   "language": "python",
   "name": "python3"
  },
  "language_info": {
   "codemirror_mode": {
    "name": "ipython",
    "version": 3
   },
   "file_extension": ".py",
   "mimetype": "text/x-python",
   "name": "python",
   "nbconvert_exporter": "python",
   "pygments_lexer": "ipython3",
   "version": "3.6.9"
  }
 },
 "nbformat": 4,
 "nbformat_minor": 4
}
